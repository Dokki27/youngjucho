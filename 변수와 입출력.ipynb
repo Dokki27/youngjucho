{
 "cells": [
  {
   "cell_type": "markdown",
   "id": "4d771c9a",
   "metadata": {},
   "source": [
    "# **변수와 입출력_기본**"
   ]
  },
  {
   "cell_type": "markdown",
   "id": "77077ee0",
   "metadata": {},
   "source": [
    "## **변수의 선언과 사용**\n",
    "\n"
   ]
  },
  {
   "cell_type": "markdown",
   "id": "51c996eb",
   "metadata": {},
   "source": [
    "### 변수의 생성"
   ]
  },
  {
   "cell_type": "code",
   "execution_count": 1,
   "id": "3cb8d5bc",
   "metadata": {},
   "outputs": [
    {
     "name": "stdout",
     "output_type": "stream",
     "text": [
      "경영학\n",
      "1782338468832\n"
     ]
    }
   ],
   "source": [
    "var_x = '경영학'\n",
    "print(var_x)\n",
    "print(id(var_x))"
   ]
  },
  {
   "cell_type": "code",
   "execution_count": 2,
   "id": "192910ab",
   "metadata": {},
   "outputs": [
    {
     "name": "stdout",
     "output_type": "stream",
     "text": [
      "경영학과\n",
      "1782317031360\n"
     ]
    }
   ],
   "source": [
    "var_x = '경영학과'\n",
    "print(var_x)\n",
    "print(id(var_x))"
   ]
  },
  {
   "cell_type": "code",
   "execution_count": 4,
   "id": "c1670ed0",
   "metadata": {},
   "outputs": [
    {
     "name": "stdout",
     "output_type": "stream",
     "text": [
      "산업데이터공학과\n",
      "1782338462672\n"
     ]
    }
   ],
   "source": [
    "var_y = '산업데이터공학과'\n",
    "print(var_y)\n",
    "print(id(var_y))"
   ]
  },
  {
   "cell_type": "markdown",
   "id": "40319043",
   "metadata": {},
   "source": [
    "### 현재 사용 중인 변수 확인"
   ]
  },
  {
   "cell_type": "code",
   "execution_count": 5,
   "id": "874140bc",
   "metadata": {},
   "outputs": [
    {
     "data": {
      "application/json": {
       "cell": {
        "!": "OSMagics",
        "HTML": "Other",
        "SVG": "Other",
        "bash": "Other",
        "capture": "ExecutionMagics",
        "cmd": "Other",
        "code_wrap": "ExecutionMagics",
        "debug": "ExecutionMagics",
        "file": "Other",
        "html": "DisplayMagics",
        "javascript": "DisplayMagics",
        "js": "DisplayMagics",
        "latex": "DisplayMagics",
        "markdown": "DisplayMagics",
        "perl": "Other",
        "prun": "ExecutionMagics",
        "pypy": "Other",
        "python": "Other",
        "python2": "Other",
        "python3": "Other",
        "ruby": "Other",
        "script": "ScriptMagics",
        "sh": "Other",
        "svg": "DisplayMagics",
        "sx": "OSMagics",
        "system": "OSMagics",
        "time": "ExecutionMagics",
        "timeit": "ExecutionMagics",
        "writefile": "OSMagics"
       },
       "line": {
        "alias": "OSMagics",
        "alias_magic": "BasicMagics",
        "autoawait": "AsyncMagics",
        "autocall": "AutoMagics",
        "automagic": "AutoMagics",
        "autosave": "KernelMagics",
        "bookmark": "OSMagics",
        "cd": "OSMagics",
        "clear": "KernelMagics",
        "cls": "KernelMagics",
        "code_wrap": "ExecutionMagics",
        "colors": "BasicMagics",
        "conda": "PackagingMagics",
        "config": "ConfigMagics",
        "connect_info": "KernelMagics",
        "copy": "Other",
        "ddir": "Other",
        "debug": "ExecutionMagics",
        "dhist": "OSMagics",
        "dirs": "OSMagics",
        "doctest_mode": "BasicMagics",
        "echo": "Other",
        "ed": "Other",
        "edit": "KernelMagics",
        "env": "OSMagics",
        "gui": "BasicMagics",
        "hist": "Other",
        "history": "HistoryMagics",
        "killbgscripts": "ScriptMagics",
        "ldir": "Other",
        "less": "KernelMagics",
        "load": "CodeMagics",
        "load_ext": "ExtensionMagics",
        "loadpy": "CodeMagics",
        "logoff": "LoggingMagics",
        "logon": "LoggingMagics",
        "logstart": "LoggingMagics",
        "logstate": "LoggingMagics",
        "logstop": "LoggingMagics",
        "ls": "Other",
        "lsmagic": "BasicMagics",
        "macro": "ExecutionMagics",
        "magic": "BasicMagics",
        "mamba": "PackagingMagics",
        "matplotlib": "PylabMagics",
        "micromamba": "PackagingMagics",
        "mkdir": "Other",
        "more": "KernelMagics",
        "notebook": "BasicMagics",
        "page": "BasicMagics",
        "pastebin": "CodeMagics",
        "pdb": "ExecutionMagics",
        "pdef": "NamespaceMagics",
        "pdoc": "NamespaceMagics",
        "pfile": "NamespaceMagics",
        "pinfo": "NamespaceMagics",
        "pinfo2": "NamespaceMagics",
        "pip": "PackagingMagics",
        "popd": "OSMagics",
        "pprint": "BasicMagics",
        "precision": "BasicMagics",
        "prun": "ExecutionMagics",
        "psearch": "NamespaceMagics",
        "psource": "NamespaceMagics",
        "pushd": "OSMagics",
        "pwd": "OSMagics",
        "pycat": "OSMagics",
        "pylab": "PylabMagics",
        "qtconsole": "KernelMagics",
        "quickref": "BasicMagics",
        "recall": "HistoryMagics",
        "rehashx": "OSMagics",
        "reload_ext": "ExtensionMagics",
        "ren": "Other",
        "rep": "Other",
        "rerun": "HistoryMagics",
        "reset": "NamespaceMagics",
        "reset_selective": "NamespaceMagics",
        "rmdir": "Other",
        "run": "ExecutionMagics",
        "save": "CodeMagics",
        "sc": "OSMagics",
        "set_env": "OSMagics",
        "store": "StoreMagics",
        "sx": "OSMagics",
        "system": "OSMagics",
        "tb": "ExecutionMagics",
        "time": "ExecutionMagics",
        "timeit": "ExecutionMagics",
        "unalias": "OSMagics",
        "unload_ext": "ExtensionMagics",
        "uv": "PackagingMagics",
        "who": "NamespaceMagics",
        "who_ls": "NamespaceMagics",
        "whos": "NamespaceMagics",
        "xdel": "NamespaceMagics",
        "xmode": "BasicMagics"
       }
      },
      "text/plain": [
       "Available line magics:\n",
       "%alias  %alias_magic  %autoawait  %autocall  %automagic  %autosave  %bookmark  %cd  %clear  %cls  %code_wrap  %colors  %conda  %config  %connect_info  %copy  %ddir  %debug  %dhist  %dirs  %doctest_mode  %echo  %ed  %edit  %env  %gui  %hist  %history  %killbgscripts  %ldir  %less  %load  %load_ext  %loadpy  %logoff  %logon  %logstart  %logstate  %logstop  %ls  %lsmagic  %macro  %magic  %mamba  %matplotlib  %micromamba  %mkdir  %more  %notebook  %page  %pastebin  %pdb  %pdef  %pdoc  %pfile  %pinfo  %pinfo2  %pip  %popd  %pprint  %precision  %prun  %psearch  %psource  %pushd  %pwd  %pycat  %pylab  %qtconsole  %quickref  %recall  %rehashx  %reload_ext  %ren  %rep  %rerun  %reset  %reset_selective  %rmdir  %run  %save  %sc  %set_env  %store  %sx  %system  %tb  %time  %timeit  %unalias  %unload_ext  %uv  %who  %who_ls  %whos  %xdel  %xmode\n",
       "\n",
       "Available cell magics:\n",
       "%%!  %%HTML  %%SVG  %%bash  %%capture  %%cmd  %%code_wrap  %%debug  %%file  %%html  %%javascript  %%js  %%latex  %%markdown  %%perl  %%prun  %%pypy  %%python  %%python2  %%python3  %%ruby  %%script  %%sh  %%svg  %%sx  %%system  %%time  %%timeit  %%writefile\n",
       "\n",
       "Automagic is ON, % prefix IS NOT needed for line magics."
      ]
     },
     "execution_count": 5,
     "metadata": {},
     "output_type": "execute_result"
    }
   ],
   "source": [
    "%lsmagic"
   ]
  },
  {
   "cell_type": "code",
   "execution_count": 6,
   "id": "d4bf2d93",
   "metadata": {},
   "outputs": [
    {
     "data": {
      "text/plain": [
       "'c:\\\\Users\\\\cyj12\\\\OneDrive\\\\바탕 화면\\\\비프.ipynb'"
      ]
     },
     "execution_count": 6,
     "metadata": {},
     "output_type": "execute_result"
    }
   ],
   "source": [
    "%pwd"
   ]
  },
  {
   "cell_type": "code",
   "execution_count": 7,
   "id": "7885d5d3",
   "metadata": {},
   "outputs": [
    {
     "name": "stdout",
     "output_type": "stream",
     "text": [
      " C ����̺��� �������� �̸��� �����ϴ�.\n",
      " ���� �Ϸ� ��ȣ: AE41-7BA1\n",
      "\n",
      " c:\\Users\\cyj12\\OneDrive\\���� ȭ��\\����.ipynb ���͸�\n",
      "\n",
      "2025-04-07  ���� 03:04    <DIR>          .\n",
      "2025-04-07  ���� 12:25    <DIR>          ..\n",
      "2025-04-07  ���� 12:29    <DIR>          .vscode\n",
      "2025-04-07  ���� 03:15             8,204 ��������1.ipynb\n",
      "               1�� ����               8,204 ����Ʈ\n",
      "               3�� ���͸�  268,243,804,160 ����Ʈ ����\n"
     ]
    }
   ],
   "source": [
    "%ls"
   ]
  },
  {
   "cell_type": "code",
   "execution_count": 8,
   "id": "31040567",
   "metadata": {},
   "outputs": [
    {
     "name": "stdout",
     "output_type": "stream",
     "text": [
      "var_x\t var_y\t \n"
     ]
    }
   ],
   "source": [
    "%who"
   ]
  },
  {
   "cell_type": "code",
   "execution_count": 9,
   "id": "a3108bc1",
   "metadata": {},
   "outputs": [
    {
     "name": "stdout",
     "output_type": "stream",
     "text": [
      "Variable   Type    Data/Info\n",
      "----------------------------\n",
      "var_x      str     경영학과\n",
      "var_y      str     산업데이터공학과\n"
     ]
    }
   ],
   "source": [
    "%whos"
   ]
  },
  {
   "cell_type": "markdown",
   "id": "8db921e6",
   "metadata": {},
   "source": [
    "### 변수의 삭제"
   ]
  },
  {
   "cell_type": "code",
   "execution_count": 10,
   "id": "883ae63f",
   "metadata": {},
   "outputs": [
    {
     "name": "stdout",
     "output_type": "stream",
     "text": [
      "Variable   Type    Data/Info\n",
      "----------------------------\n",
      "var_x      str     경영학과\n",
      "var_y      str     산업데이터공학과\n",
      "var_z1     int     123\n",
      "var_z2     list    n=5\n"
     ]
    }
   ],
   "source": [
    "var_z1 = 123\n",
    "var_z2 = [1,2,3,4,5]\n",
    "\n",
    "%whos"
   ]
  },
  {
   "cell_type": "code",
   "execution_count": 108,
   "id": "c9da29ef",
   "metadata": {},
   "outputs": [
    {
     "name": "stdout",
     "output_type": "stream",
     "text": [
      "Variable   Type     Data/Info\n",
      "-----------------------------\n",
      "var_a      float    1112.2122455\n",
      "var_y      str      abcde\n",
      "var_z      str      학번\n"
     ]
    }
   ],
   "source": [
    "del var_x\n",
    "\n",
    "%whos"
   ]
  },
  {
   "cell_type": "code",
   "execution_count": 15,
   "id": "5639e523",
   "metadata": {},
   "outputs": [
    {
     "name": "stdout",
     "output_type": "stream",
     "text": [
      "Interactive namespace is empty.\n"
     ]
    }
   ],
   "source": [
    "del var_y, var_z1, var_z2\n",
    "\n",
    "%whos"
   ]
  },
  {
   "cell_type": "markdown",
   "id": "b0674278",
   "metadata": {},
   "source": [
    "## 데이터의 입출력"
   ]
  },
  {
   "cell_type": "markdown",
   "id": "239656f6",
   "metadata": {},
   "source": [
    "### input () 함수"
   ]
  },
  {
   "cell_type": "code",
   "execution_count": 1,
   "id": "c7bdc299",
   "metadata": {},
   "outputs": [],
   "source": [
    "var_x = input('데이터를 입력하세요:')"
   ]
  },
  {
   "cell_type": "code",
   "execution_count": 2,
   "id": "bb30a4fc",
   "metadata": {},
   "outputs": [
    {
     "name": "stdout",
     "output_type": "stream",
     "text": [
      "var_x =''\n",
      "type(var_x) =<class 'str'>\n"
     ]
    }
   ],
   "source": [
    "print(f'{var_x =}')\n",
    "print(f'{type(var_x) =}')"
   ]
  },
  {
   "cell_type": "code",
   "execution_count": 6,
   "id": "966f6716",
   "metadata": {},
   "outputs": [
    {
     "name": "stdout",
     "output_type": "stream",
     "text": [
      "1\n",
      "<class 'int'>\n"
     ]
    }
   ],
   "source": [
    "var_y = int(input('숫자를 입력하세요: '))\n",
    "\n",
    "print(var_y)\n",
    "\n",
    "print(type(var_y))"
   ]
  },
  {
   "cell_type": "markdown",
   "id": "b0f6e5ca",
   "metadata": {},
   "source": [
    "### print() 함수"
   ]
  },
  {
   "cell_type": "code",
   "execution_count": 7,
   "id": "c26b418b",
   "metadata": {},
   "outputs": [
    {
     "name": "stdout",
     "output_type": "stream",
     "text": [
      "10\n",
      "10 경영학과 3.14 True\n",
      "10|경영학과|3.14|True\n",
      "10|경영학과|3.14|True\t*************"
     ]
    }
   ],
   "source": [
    "print(10)\n",
    "print(10, '경영학과', 3.14, True)\n",
    "print(10, '경영학과', 3.14, True, sep='|')\n",
    "print(10, '경영학과', 3.14, True, sep='|', end= '\\t*************')"
   ]
  },
  {
   "cell_type": "markdown",
   "id": "9e8bad48",
   "metadata": {},
   "source": [
    "### 이스케이프 문자"
   ]
  },
  {
   "cell_type": "code",
   "execution_count": 9,
   "id": "2305f2de",
   "metadata": {},
   "outputs": [
    {
     "name": "stdout",
     "output_type": "stream",
     "text": [
      "이름 : 홍길동\n",
      "학번 : 20210000\n",
      "학과 : 경영학과\n"
     ]
    }
   ],
   "source": [
    "print('이름 : 홍길동\\n학번 : 20210000\\n학과 : 경영학과')"
   ]
  },
  {
   "cell_type": "code",
   "execution_count": 10,
   "id": "1f7c2fcc",
   "metadata": {},
   "outputs": [
    {
     "name": "stdout",
     "output_type": "stream",
     "text": [
      "이름\t학번\t\t학과\n",
      "홍길동\t20210000\t경영학과\n",
      "김강\t20210001\t경영학과\n"
     ]
    }
   ],
   "source": [
    "print('이름\\t학번\\t\\t학과')\n",
    "print('홍길동\\t20210000\\t경영학과')\n",
    "print('김강\\t20210001\\t경영학과')"
   ]
  },
  {
   "cell_type": "markdown",
   "id": "bac3cc0c",
   "metadata": {},
   "source": [
    "## f-string"
   ]
  },
  {
   "cell_type": "markdown",
   "id": "284ff9bf",
   "metadata": {},
   "source": [
    "### f-string 사용법"
   ]
  },
  {
   "cell_type": "code",
   "execution_count": 11,
   "id": "2546bb68",
   "metadata": {},
   "outputs": [
    {
     "name": "stdout",
     "output_type": "stream",
     "text": [
      "54321\n",
      "--------------------\n",
      "var_y = 54321\n",
      "--------------------\n",
      "var_y = 54321\n"
     ]
    }
   ],
   "source": [
    "var_y = 54321\n",
    "print(f'{var_y}', end='\\n--------------------\\n')\n",
    "print(f'{var_y = }', end='\\n--------------------\\n')\n",
    "print(f'var_y = {var_y}')"
   ]
  },
  {
   "cell_type": "code",
   "execution_count": 13,
   "id": "ee2bebfe",
   "metadata": {},
   "outputs": [
    {
     "name": "stdout",
     "output_type": "stream",
     "text": [
      "var_x는 정수형이므로 d를 사용하여야 하고, 54321입니다.\n",
      "var_x를 총 20개의 자리에 표현하면,                54321입니다.\n",
      "var_x를 총 20개의 자리에 왼쪽 정렬하여 표현하면, 54321               입니다.\n",
      "var_y는 실수형이므로 f를 사용하여야 하고, 54321.123457입니다.\n",
      "var_y를 정수만 출력하면 54321입니다.\n",
      "var_y를 소수점 5자리까지 출력하면 54321.123457입니다.\n",
      "var_y를 20자리에 가운데 정렬하여 소수점 3자리까지 출력하면      54321.123      입니다.\n"
     ]
    }
   ],
   "source": [
    "var_x = 54321\n",
    "var_y = 54321.123456789 \n",
    "print(f'var_x는 정수형이므로 d를 사용하여야 하고, {var_x:d}입니다.')\n",
    "print(f'var_x를 총 20개의 자리에 표현하면, {var_x:20d}입니다.')\n",
    "print(f'var_x를 총 20개의 자리에 왼쪽 정렬하여 표현하면, {var_x:<20d}입니다.')\n",
    "print(f'var_y는 실수형이므로 f를 사용하여야 하고, {var_y:f}입니다.')\n",
    "print(f'var_y를 정수만 출력하면 {var_y:.0f}입니다.')\n",
    "print(f'var_y를 소수점 5자리까지 출력하면 {var_y:5f}입니다.')\n",
    "print(f'var_y를 20자리에 가운데 정렬하여 소수점 3자리까지 출력하면 {var_y:^20.3f}입니다.')"
   ]
  },
  {
   "cell_type": "markdown",
   "id": "bcf5c8e8",
   "metadata": {},
   "source": [
    "# **변수와 입출력_응용**"
   ]
  },
  {
   "cell_type": "markdown",
   "id": "293c6eeb",
   "metadata": {},
   "source": [
    "### input()함수"
   ]
  },
  {
   "cell_type": "code",
   "execution_count": 3,
   "id": "2918d156",
   "metadata": {},
   "outputs": [],
   "source": [
    "var_x = input('데이터를 입력하세요: ')"
   ]
  },
  {
   "cell_type": "code",
   "execution_count": 10,
   "id": "88fc9d91",
   "metadata": {},
   "outputs": [
    {
     "name": "stdout",
     "output_type": "stream",
     "text": [
      "12345\n",
      "var_x = '12345'\n",
      "type(var_x) = <class 'str'>\n"
     ]
    },
    {
     "data": {
      "text/plain": [
       "str"
      ]
     },
     "execution_count": 10,
     "metadata": {},
     "output_type": "execute_result"
    }
   ],
   "source": [
    "# 함수는 함수명(입력값) 형태로 도출\n",
    "\n",
    "print(var_x)\n",
    "# var_x의 값만 도출\n",
    "print(f'{var_x = }')\n",
    "# 변수와 입력값 모두 도출\n",
    "\n",
    "print(f'{type(var_x) = }')\n",
    "#변수와 입력값 모두 도출\n",
    "type(var_x)\n",
    "#var_x의 타입만 도출"
   ]
  },
  {
   "cell_type": "markdown",
   "id": "38d6945e",
   "metadata": {},
   "source": [
    "### print() 함수"
   ]
  },
  {
   "cell_type": "code",
   "execution_count": 42,
   "id": "ca3960f0",
   "metadata": {},
   "outputs": [
    {
     "name": "stdout",
     "output_type": "stream",
     "text": [
      "10 가나다 abcd   1.3 10\n",
      "10-가나다-abcd- -1.3-10\n",
      "10a가나다aabcda a1.3a10\n",
      "10ㄱ가나다ㄱabcdㄱ ㄱ1.3ㄱ10\n",
      "101가나다1abcd1 11.3110\n",
      "10-가나다-abcd- -1.3-10**10-가나다-abcd- -1.3-10\n",
      "******\n"
     ]
    }
   ],
   "source": [
    "print(10, '가나다', 'abcd',' ', '1.3', 10 )\n",
    "# ' '도 입력 가능 \n",
    "\n",
    "print(10, '가나다', 'abcd',' ','1.3', 10, sep='-')\n",
    "print(10, '가나다', 'abcd',' ','1.3', 10, sep='a')\n",
    "print(10, '가나다', 'abcd',' ','1.3', 10, sep='ㄱ')\n",
    "print(10, '가나다', 'abcd',' ','1.3', 10, sep='1')\n",
    "#다양한 문자로 구분 가능 "
   ]
  },
  {
   "cell_type": "markdown",
   "id": "c624af07",
   "metadata": {},
   "source": [
    "### 이스케이프 문자"
   ]
  },
  {
   "cell_type": "code",
   "execution_count": 107,
   "id": "f3d524d5",
   "metadata": {},
   "outputs": [
    {
     "name": "stdout",
     "output_type": "stream",
     "text": [
      "이름\t학번\t\t\t학과\n",
      "홍길동\t431229\t\t\t경영학과\n",
      "이름\t|학번\t|학과|\n",
      "홍길동\t|431229\t|경영학과\n",
      "이름\t|학번\t|학과\n",
      "|홍길동\t|431229\t|경영학과\n"
     ]
    }
   ],
   "source": [
    "print('이름\\t학번\\t\\t\\t학과\\n홍길동\\t431229\\t\\t\\t경영학과')\n",
    "#한 번에 줄바꿈, 탭 모두 적용하여 작성 가능\n",
    " \n",
    "print('이름\\t','학번\\t','학과','\\n홍길동\\t','431229\\t','경영학과', sep='|')\n",
    "print('이름\\t','학번\\t','학과\\n','홍길동\\t','431229\\t','경영학과', sep='|')\n",
    "#sep으로 구분 가능 \n",
    "#\\n이 홍길동 앞에 붙으면 구분선이 학과 뒤\n",
    "#\\n이 학과 뒤에 붙으면 구분석이 홍길동 앞에 생성"
   ]
  },
  {
   "cell_type": "markdown",
   "id": "7267181d",
   "metadata": {},
   "source": [
    "### f-string"
   ]
  },
  {
   "cell_type": "code",
   "execution_count": null,
   "id": "fd359e39",
   "metadata": {},
   "outputs": [
    {
     "name": "stdout",
     "output_type": "stream",
     "text": [
      "var_x,12345\n",
      "var_x,12345\n",
      "var_x,    12345\n",
      "    학번    \n",
      "   12345   \n",
      "   1112.212245500   \n"
     ]
    }
   ],
   "source": [
    "var_x = 12345\n",
    "var_z = '학번'\n",
    "var_a = 1112.2122455\n",
    "\n",
    "print(f'var_x,{var_x:2d}')\n",
    "print(f'var_x,{var_x:5d}')\n",
    "print(f'var_x,{var_x:9d}')\n",
    "#글자수보다 작은 자릿수 입력하면 변동 없음\n",
    "\n",
    "print(f'{var_z:^10s}\\n', f'{var_x:^10d}')\n",
    "#\\n를 활용하여 가운데 정렬 \n",
    "\n",
    "print(f'{var_a:^20.9f}')\n",
    "#소수점 끝자리 이후부터는 0으로 출력됨"
   ]
  }
 ],
 "metadata": {
  "kernelspec": {
   "display_name": "Python 3",
   "language": "python",
   "name": "python3"
  },
  "language_info": {
   "codemirror_mode": {
    "name": "ipython",
    "version": 3
   },
   "file_extension": ".py",
   "mimetype": "text/x-python",
   "name": "python",
   "nbconvert_exporter": "python",
   "pygments_lexer": "ipython3",
   "version": "3.13.2"
  }
 },
 "nbformat": 4,
 "nbformat_minor": 5
}
